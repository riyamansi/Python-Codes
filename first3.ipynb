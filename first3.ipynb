{
  "nbformat": 4,
  "nbformat_minor": 0,
  "metadata": {
    "colab": {
      "name": "Untitled2.ipynb",
      "version": "0.3.2",
      "provenance": [],
      "collapsed_sections": [],
      "include_colab_link": true
    },
    "kernelspec": {
      "name": "python3",
      "display_name": "Python 3"
    }
  },
  "cells": [
    {
      "cell_type": "markdown",
      "metadata": {
        "id": "view-in-github",
        "colab_type": "text"
      },
      "source": [
        "<a href=\"https://colab.research.google.com/github/riyamansi/Python-Codes/blob/master/first3.ipynb\" target=\"_parent\"><img src=\"https://colab.research.google.com/assets/colab-badge.svg\" alt=\"Open In Colab\"/></a>"
      ]
    },
    {
      "cell_type": "code",
      "metadata": {
        "id": "XETXczO-kmzh",
        "colab_type": "code",
        "outputId": "3ca5b50f-99f7-49b4-96a9-bc0e2243ee62",
        "colab": {
          "base_uri": "https://localhost:8080/",
          "height": 129
        }
      },
      "source": [
        "num = 10\n",
        "for i in range(2,num):\n",
        "  if num % i ==0:\n",
        "    print (\"not prime\")\n",
        "    break\n",
        "    else\n",
        "      print(\"prime\")"
      ],
      "execution_count": 3,
      "outputs": [
        {
          "output_type": "error",
          "ename": "SyntaxError",
          "evalue": "ignored",
          "traceback": [
            "\u001b[0;36m  File \u001b[0;32m\"<ipython-input-3-21d671629f06>\"\u001b[0;36m, line \u001b[0;32m7\u001b[0m\n\u001b[0;31m    else\u001b[0m\n\u001b[0m       ^\u001b[0m\n\u001b[0;31mSyntaxError\u001b[0m\u001b[0;31m:\u001b[0m invalid syntax\n"
          ]
        }
      ]
    },
    {
      "cell_type": "code",
      "metadata": {
        "id": "CalKoQD62h8Y",
        "colab_type": "code",
        "outputId": "54360de5-a9bd-4d69-b04c-50686df8078c",
        "colab": {
          "base_uri": "https://localhost:8080/",
          "height": 129
        }
      },
      "source": [
        "fibonacci series\n",
        "def fib (n):\n",
        "  a=0\n",
        "  b=1\n",
        "  if n == 1:\n",
        "    print (a)\n",
        "    \n",
        "    else\n",
        "      \n",
        "                  print(a)\n",
        "                  print(b)\n",
        "\n",
        "\n",
        "                for i in range(2,n):\n",
        "                  c=a+b\n",
        "                  a=b\n",
        "                  b=c\n",
        "                  print (c)\n",
        "fib(1)\n"
      ],
      "execution_count": 0,
      "outputs": [
        {
          "output_type": "error",
          "ename": "SyntaxError",
          "evalue": "ignored",
          "traceback": [
            "\u001b[0;36m  File \u001b[0;32m\"<ipython-input-7-6559644b7055>\"\u001b[0;36m, line \u001b[0;32m1\u001b[0m\n\u001b[0;31m    fibonacci series\u001b[0m\n\u001b[0m                   ^\u001b[0m\n\u001b[0;31mSyntaxError\u001b[0m\u001b[0;31m:\u001b[0m invalid syntax\n"
          ]
        }
      ]
    },
    {
      "cell_type": "code",
      "metadata": {
        "id": "3PhSjEpPuy6F",
        "colab_type": "code",
        "outputId": "ee1c9aae-8b7f-427f-feb1-1009daa3f025",
        "colab": {
          "base_uri": "https://localhost:8080/",
          "height": 129
        }
      },
      "source": [
        "num=int(input(\"enter a num\"))\n",
        "if(num % 2)==0:\n",
        "  print (\"{0} is even\")\n",
        "  else:\n",
        "    print (\"{0} is odd\")\n",
        "    "
      ],
      "execution_count": 0,
      "outputs": [
        {
          "output_type": "error",
          "ename": "SyntaxError",
          "evalue": "ignored",
          "traceback": [
            "\u001b[0;36m  File \u001b[0;32m\"<ipython-input-8-a74e59691a1a>\"\u001b[0;36m, line \u001b[0;32m4\u001b[0m\n\u001b[0;31m    else:\u001b[0m\n\u001b[0m       ^\u001b[0m\n\u001b[0;31mSyntaxError\u001b[0m\u001b[0;31m:\u001b[0m invalid syntax\n"
          ]
        }
      ]
    }
  ]
}